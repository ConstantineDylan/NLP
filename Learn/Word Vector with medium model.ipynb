{
 "cells": [
  {
   "cell_type": "code",
   "execution_count": 2,
   "source": [
    "import spacy\r\n",
    "!python -m spacy download en_core_web_md\r\n",
    "#medium model"
   ],
   "outputs": [
    {
     "output_type": "stream",
     "name": "stdout",
     "text": [
      "^C\n"
     ]
    }
   ],
   "metadata": {}
  },
  {
   "cell_type": "code",
   "execution_count": 3,
   "source": [
    "nlp = spacy.load(\"en_core_web_md\")"
   ],
   "outputs": [],
   "metadata": {}
  },
  {
   "cell_type": "code",
   "execution_count": 6,
   "source": [
    "with open(\"US Wiki.txt\",\"r\") as f:\r\n",
    "    text = f.read()"
   ],
   "outputs": [],
   "metadata": {}
  },
  {
   "cell_type": "code",
   "execution_count": 8,
   "source": [
    "doc = nlp(text)\r\n",
    "sentence1 = list(doc.sents)[0]\r\n",
    "print(sentence1)"
   ],
   "outputs": [
    {
     "output_type": "stream",
     "name": "stdout",
     "text": [
      "The United States of America (U.S.A. or USA), commonly known as the United States (U.S. or US) or America, is a country primarily located in North America.\n"
     ]
    }
   ],
   "metadata": {}
  },
  {
   "cell_type": "code",
   "execution_count": 10,
   "source": [
    "import numpy as np\r\n",
    "\r\n",
    "your_word = 'country'\r\n",
    "\r\n",
    "ms = nlp.vocab.vectors.most_similar(\r\n",
    "    np.asarray([nlp.vocab.vectors[nlp.vocab.strings[your_word]]]), n=10)\r\n",
    "words = [nlp.vocab.strings[w] for w in ms[0][0]]\r\n",
    "distances = ms[2]\r\n",
    "print(words)"
   ],
   "outputs": [
    {
     "output_type": "stream",
     "name": "stdout",
     "text": [
      "['country', 'COUNTRY', 'NATION', 'nation', 'COUNTIRES', 'nations', 'member-states', 'worLd', 'World', 'world']\n"
     ]
    }
   ],
   "metadata": {}
  },
  {
   "cell_type": "code",
   "execution_count": 25,
   "source": [
    "doc1 = nlp('I like salty fries and hamburgers.')\r\n",
    "doc2 = nlp('Fast food tastes very good.')"
   ],
   "outputs": [],
   "metadata": {}
  },
  {
   "cell_type": "code",
   "execution_count": 26,
   "source": [
    "print(doc1, \"<->\", doc2, doc1.similarity(doc2))"
   ],
   "outputs": [
    {
     "output_type": "stream",
     "name": "stdout",
     "text": [
      "I like salty fries and hamburgers. <-> Fast food tastes very good. 0.7799485285662074\n"
     ]
    }
   ],
   "metadata": {}
  },
  {
   "cell_type": "code",
   "execution_count": 32,
   "source": [
    "doc3 = nlp('Japan is an Asian Country.')"
   ],
   "outputs": [],
   "metadata": {}
  },
  {
   "cell_type": "code",
   "execution_count": 33,
   "source": [
    "print(f'{doc1} <-> {doc3}', doc1.similarity(doc3))"
   ],
   "outputs": [
    {
     "output_type": "stream",
     "name": "stdout",
     "text": [
      "I like salty fries and hamburgers. <-> Japan is an Asian Country. 0.5715776926212477\n"
     ]
    }
   ],
   "metadata": {}
  },
  {
   "cell_type": "code",
   "execution_count": 50,
   "source": [
    "doc4 = nlp('i enjoy oranges.')\r\n",
    "doc5 = nlp('i enjoy apples.')\r\n",
    "doc6 = nlp('i enjoy dancing.')\r\n",
    "doc7 = nlp('i like computers.')\r\n",
    "doc8 = nlp('i enjoy computers.')\r\n",
    "docs = [doc1, doc2, doc3, doc4, doc5, doc6, doc7,doc8]"
   ],
   "outputs": [],
   "metadata": {}
  },
  {
   "cell_type": "code",
   "execution_count": 51,
   "source": [
    "chosenDoc = doc4\r\n",
    "for doc in docs :\r\n",
    "    print(f'{chosenDoc} <-> {doc}', chosenDoc.similarity(doc))"
   ],
   "outputs": [
    {
     "output_type": "stream",
     "name": "stdout",
     "text": [
      "i enjoy oranges. <-> I like salty fries and hamburgers. 0.7703399735951375\n",
      "i enjoy oranges. <-> Fast food tastes very good. 0.738262026570443\n",
      "i enjoy oranges. <-> Japan is an Asian Country. 0.6343815600197932\n",
      "i enjoy oranges. <-> i enjoy oranges. 1.0\n",
      "i enjoy oranges. <-> i enjoy apples. 0.9607558420297302\n",
      "i enjoy oranges. <-> i enjoy dancing. 0.8689628738545291\n",
      "i enjoy oranges. <-> i like computers. 0.7799829710522016\n",
      "i enjoy oranges. <-> i enjoy computers. 0.8386763574627076\n"
     ]
    }
   ],
   "metadata": {}
  },
  {
   "cell_type": "code",
   "execution_count": 57,
   "source": [
    "fries = doc1[2:4]\r\n",
    "burger = doc1[5]\r\n",
    "print(f'{fries} <-> {burger}', fries.similarity(burger))\r\n"
   ],
   "outputs": [
    {
     "output_type": "stream",
     "name": "stdout",
     "text": [
      "salty fries <-> hamburgers 0.7304624\n"
     ]
    }
   ],
   "metadata": {}
  }
 ],
 "metadata": {
  "orig_nbformat": 4,
  "language_info": {
   "name": "python",
   "version": "3.9.7",
   "mimetype": "text/x-python",
   "codemirror_mode": {
    "name": "ipython",
    "version": 3
   },
   "pygments_lexer": "ipython3",
   "nbconvert_exporter": "python",
   "file_extension": ".py"
  },
  "kernelspec": {
   "name": "python3",
   "display_name": "Python 3.9.7 64-bit ('nlp_env': conda)"
  },
  "interpreter": {
   "hash": "e5c390139b3fa04abb50c00adeb6d6ffc521f51401fea9ca5c3c56f97227f384"
  }
 },
 "nbformat": 4,
 "nbformat_minor": 2
}